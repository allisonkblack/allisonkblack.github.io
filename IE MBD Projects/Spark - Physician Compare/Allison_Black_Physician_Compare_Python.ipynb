{
 "cells": [
  {
   "cell_type": "markdown",
   "metadata": {},
   "source": [
    "# Physican Compare Analysis (2017)\n",
    "Allison Black\n",
    "IE Master's in Buisness Analytics and Big Data\n",
    "\n",
    "\n",
    "Physician Compare analysis is going to be performed as follows:\n",
    "\n",
    "1. PySpark **environment setup**\n",
    "2. Data source and **Spark data abstraction** (DataFrame) **set up**\n",
    "3. Data set **metadata analysis**:\n",
    "  1. Display **schema and size** of the DataFrame\n",
    "  2. Get one or multiple **random samples** from the data set to better understand what the data is all about\n",
    "  3. Identify **data entities**, **metrics** and **dimensions**\n",
    "  4. **Columns/fields categorization**\n",
    "4. Columns groups **basic profiling** to better understand our data set:\n",
    "  1. **Performance related** columns basic profiling\n",
    "  2. **Location related** columns basic profiling\n",
    "5. **Answer some business questions** to improve patient helath and service\n",
    "  1. **Ratio of hospital measure performance rate by grade**\n",
    "  2. **Measure grade statistics** by type of measure (e-prescribing, secure messaging, pain assessment and follow-up)\n",
    "  3. **Top 100 best and worst hospitals by average performance measure**\n",
    "\n",
    "\n",
    "\n",
    "## 1. PySpark environment setup"
   ]
  },
  {
   "cell_type": "code",
   "execution_count": 219,
   "metadata": {},
   "outputs": [],
   "source": [
    "import findspark\n",
    "findspark.init()\n",
    "\n",
    "from pyspark.context import SparkContext\n",
    "from pyspark.sql.session import SparkSession\n",
    "\n",
    "sc = SparkContext.getOrCreate()\n",
    "spark = SparkSession(sc)\n",
    "\n",
    "# Refer to https://spark.apache.org/docs/latest/api/python/index.html for PySpark documentation"
   ]
  },
  {
   "cell_type": "markdown",
   "metadata": {},
   "source": [
    "## 2. Data source and Spark data abstraction (DataFrame) setup"
   ]
  },
  {
   "cell_type": "code",
   "execution_count": 220,
   "metadata": {},
   "outputs": [
    {
     "data": {
      "text/plain": [
       "Row(Hospital='ALASKA CENTER FOR EAR NOSE AND THROAT INC', Group PAC ID=7012901952, State='AK', ACO PC ID 1=None, Measure Code='MIPS_GRP_093_overall', Measure Title='Acute Otitis Externa (AOE): Systemic Antimicrobial Therapy - Avoidance of Inappropriate Use', Measure Performance Rate=100, Denominator Count=24, Star Value=None, Five Star Benchmark=None, Reported on PC Live Site='N')"
      ]
     },
     "execution_count": 220,
     "metadata": {},
     "output_type": "execute_result"
    }
   ],
   "source": [
    "healthDF = spark.read \\\n",
    "                 .option(\"inferSchema\", \"true\") \\\n",
    "                 .option(\"header\", \"true\") \\\n",
    "                 .csv(\"Physician_Compare_2017_Group_Public_Reporting_-_Measures.csv\")\n",
    "healthDF.head()"
   ]
  },
  {
   "cell_type": "markdown",
   "metadata": {},
   "source": [
    "## 3. Data set metadata analysis\n",
    "### A. Display schema and size of the DataFrame"
   ]
  },
  {
   "cell_type": "code",
   "execution_count": 221,
   "metadata": {
    "scrolled": false
   },
   "outputs": [
    {
     "name": "stdout",
     "output_type": "stream",
     "text": [
      "root\n",
      " |-- Hospital: string (nullable = true)\n",
      " |-- Group PAC ID: long (nullable = true)\n",
      " |-- State: string (nullable = true)\n",
      " |-- ACO PC ID 1: string (nullable = true)\n",
      " |-- Measure Code: string (nullable = true)\n",
      " |-- Measure Title: string (nullable = true)\n",
      " |-- Measure Performance Rate: integer (nullable = true)\n",
      " |-- Denominator Count: integer (nullable = true)\n",
      " |-- Star Value: integer (nullable = true)\n",
      " |-- Five Star Benchmark: integer (nullable = true)\n",
      " |-- Reported on PC Live Site: string (nullable = true)\n",
      "\n"
     ]
    },
    {
     "data": {
      "text/markdown": [
       "This DataFrame has **73321 rows**."
      ],
      "text/plain": [
       "<IPython.core.display.Markdown object>"
      ]
     },
     "metadata": {},
     "output_type": "display_data"
    }
   ],
   "source": [
    "from IPython.display import display, Markdown\n",
    "\n",
    "healthDF.printSchema()\n",
    "display(Markdown(\"This DataFrame has **%d rows**.\" % healthDF.count()))"
   ]
  },
  {
   "cell_type": "markdown",
   "metadata": {},
   "source": [
    "### B. Get two random samples from the data set"
   ]
  },
  {
   "cell_type": "code",
   "execution_count": 222,
   "metadata": {},
   "outputs": [
    {
     "data": {
      "text/plain": [
       "[Row(Hospital='MAT-SU VALLEY MEDICAL CENTER LLC', Group PAC ID=5698686475, State='AK', ACO PC ID 1=None, Measure Code='MIPS_GRP_093_overall', Measure Title='Acute Otitis Externa (AOE): Systemic Antimicrobial Therapy - Avoidance of Inappropriate Use', Measure Performance Rate=53, Denominator Count=97, Star Value=None, Five Star Benchmark=None, Reported on PC Live Site='N'),\n",
       " Row(Hospital='TANANA VALLEY CLINIC LLC', Group PAC ID=5698056901, State='AK', ACO PC ID 1=None, Measure Code='MIPS_GRP_093_overall', Measure Title='Acute Otitis Externa (AOE): Systemic Antimicrobial Therapy - Avoidance of Inappropriate Use', Measure Performance Rate=75, Denominator Count=118, Star Value=None, Five Star Benchmark=None, Reported on PC Live Site='N')]"
      ]
     },
     "execution_count": 222,
     "metadata": {},
     "output_type": "execute_result"
    }
   ],
   "source": [
    "healthDF.cache() # optimization to make the processing faster\n",
    "healthDF.sample(False, 0.8).take(2)"
   ]
  },
  {
   "cell_type": "markdown",
   "metadata": {},
   "source": [
    "### C. Data entities, metrics and dimensions\n",
    "\n",
    "I've identified the following elements:\n",
    "\n",
    "* **Entities:** Hospital (main one which is measured - facts), State (dimension), Measure Title (dimension)\n",
    "* **Metrics:** Measure Performance Rate, Star Value, Five Star Benchmark\n",
    "* **Dimensions:** Location, measure code, collection type \n",
    "\n",
    "### D. Column categorization\n",
    "\n",
    "The following could be a potential column categorization:\n",
    "\n",
    "* **Performance related columns:** *Measure title*, *Measure Performance Rating*, *Star Value*, *Five Star Benchmark*\n",
    "* **Location related columns:** *Hospital*, *State*, *Group PAC ID*\n",
    "\n",
    "\n",
    "## 4. Columns groups basic profiling to better understand the data set\n",
    "### A. Performance related columns basic profiling"
   ]
  },
  {
   "cell_type": "code",
   "execution_count": 223,
   "metadata": {},
   "outputs": [
    {
     "name": "stdout",
     "output_type": "stream",
     "text": [
      "Summary of columns Measure Performance Rate, Star Value, Five Star Benchmark:\n",
      "+-------+------------------------+------------------+-------------------+\n",
      "|summary|Measure Performance Rate|        Star Value|Five Star Benchmark|\n",
      "+-------+------------------------+------------------+-------------------+\n",
      "|  count|                   52828|              3196|               3196|\n",
      "|   mean|      62.528621185734835|3.5259699624530665|  98.15425531914893|\n",
      "| stddev|      38.124502934221155|1.2387641492890453|  4.051891581973628|\n",
      "|    min|                       0|                 1|                 84|\n",
      "|    25%|                      22|                 3|                100|\n",
      "|    50%|                      80|                 4|                100|\n",
      "|    75%|                      98|                 4|                100|\n",
      "|    max|                     100|                 5|                100|\n",
      "+-------+------------------------+------------------+-------------------+\n",
      "\n",
      "Checking for nulls on columns Measure Performance Rate, Star Value, Five Star Benchmark:\n",
      "+------------------------+----------+-------------------+\n",
      "|Measure Performance Rate|Star Value|Five Star Benchmark|\n",
      "+------------------------+----------+-------------------+\n",
      "|                   20493|     70125|              70125|\n",
      "+------------------------+----------+-------------------+\n",
      "\n",
      "Checking amount of distinct values in columns Measure Performance Rate, Star Value, Five Star Benchmark:\n",
      "+------------------------+----------+-------------------+\n",
      "|Measure Performance Rate|Star Value|Five Star Benchmark|\n",
      "+------------------------+----------+-------------------+\n",
      "|                     101|         5|                  5|\n",
      "+------------------------+----------+-------------------+\n",
      "\n"
     ]
    }
   ],
   "source": [
    "from IPython.display import display, Markdown\n",
    "from pyspark.sql.functions import when, count, col, countDistinct, desc, first, lit\n",
    "\n",
    "\n",
    "print (\"Summary of columns Measure Performance Rate, Star Value, Five Star Benchmark:\")\n",
    "healthDF.select(\"Measure Performance Rate\", \"Star Value\", \"Five Star Benchmark\" ).summary().show()\n",
    "\n",
    "print(\"Checking for nulls on columns Measure Performance Rate, Star Value, Five Star Benchmark:\")\n",
    "healthDF.select([count(when(col(c).isNull(), c)).alias(c) for c in [\"Measure Performance Rate\",\"Star Value\",\"Five Star Benchmark\"]]).show()\n",
    "\n",
    "print(\"Checking amount of distinct values in columns Measure Performance Rate, Star Value, Five Star Benchmark:\")\n",
    "healthDF.select([countDistinct(c).alias(c) for c in [\"Measure Performance Rate\",\"Star Value\",\"Five Star Benchmark\"]]).show()\n"
   ]
  },
  {
   "cell_type": "markdown",
   "metadata": {},
   "source": [
    "### B. Location related columns basic profiling "
   ]
  },
  {
   "cell_type": "code",
   "execution_count": 224,
   "metadata": {},
   "outputs": [
    {
     "name": "stdout",
     "output_type": "stream",
     "text": [
      "Summary of columns Hospital, Group PAC ID,  State, Reported on PC Live Site:\n",
      "+-------+--------------------+--------------------+-----+------------------------+\n",
      "|summary|            Hospital|        Group PAC ID|State|Reported on PC Live Site|\n",
      "+-------+--------------------+--------------------+-----+------------------------+\n",
      "|  count|               73321|               73321|73321|                   73321|\n",
      "|   mean|                null| 4.983921843809727E9| null|                    null|\n",
      "| stddev|                null|2.8811260416445284E9| null|                    null|\n",
      "|    min|1450 ASSOCIATES, LLC|            42101099|   AK|                       N|\n",
      "|    25%|                null|          2466545041| null|                    null|\n",
      "|    50%|                null|          4981731312| null|                    null|\n",
      "|    75%|                null|          7416960265| null|                    null|\n",
      "|    max| ZZZ ANESTHESIA, INC|          9931491107|   WY|                       Y|\n",
      "+-------+--------------------+--------------------+-----+------------------------+\n",
      "\n",
      "Checking for nulls on columns Hospital, Group PAC ID,  State, Reported on PC Live Site:\n",
      "+--------+------------+-----+------------------------+\n",
      "|Hospital|Group PAC ID|State|Reported on PC Live Site|\n",
      "+--------+------------+-----+------------------------+\n",
      "|       0|           0|    0|                       0|\n",
      "+--------+------------+-----+------------------------+\n",
      "\n",
      "Checking amount of distinct values in columns Hospital, Group PAC ID, State, Reported on PC Live Site:\n",
      "+--------+------------+-----+------------------------+\n",
      "|Hospital|Group PAC ID|State|Reported on PC Live Site|\n",
      "+--------+------------+-----+------------------------+\n",
      "|   12944|       13082|   54|                       2|\n",
      "+--------+------------+-----+------------------------+\n",
      "\n",
      "Most and least frequent occurrences for Hospital, Group PAC ID, State, Reported on PC Live Site:\n"
     ]
    },
    {
     "data": {
      "text/markdown": [
       "\n",
       "| leastFreqHospital | mostFreqHospital | leastFreqGroupPAC | mostFreqGroupPAC |\n",
       "|----|----|----|----|\n",
       "| ST JOSEPH HOSPITALIST MEDICAL GROUP INC (1 occurrences) | REGENTS OF THE UNIVERSITY OF CALIFORNIA (160 occurrences) | 3476443524 (3476443524 occurrences) | 9436062296 (9436062296 occurrences) |\n"
      ],
      "text/plain": [
       "<IPython.core.display.Markdown object>"
      ]
     },
     "metadata": {},
     "output_type": "display_data"
    },
    {
     "data": {
      "text/markdown": [
       "\n",
       "| leastFreqState | mostFreqState | leastFreqReportedLive | mostFreqDest |\n",
       "|----|----|----|----|\n",
       "| GU (12 occurrences) | FL (5665 occurrences) | Y (3552 occurrences) | N (N occurrences) |\n"
      ],
      "text/plain": [
       "<IPython.core.display.Markdown object>"
      ]
     },
     "metadata": {},
     "output_type": "display_data"
    }
   ],
   "source": [
    "from IPython.display import display, Markdown\n",
    "from pyspark.sql.functions import when, count, col, countDistinct, desc, first\n",
    "\n",
    "print (\"Summary of columns Hospital, Group PAC ID,  State, Reported on PC Live Site:\")\n",
    "healthDF.select(\"Hospital\", \"Group PAC ID\", \"State\", \"Reported on PC Live Site\").summary().show()\n",
    "\n",
    "print(\"Checking for nulls on columns Hospital, Group PAC ID,  State, Reported on PC Live Site:\")\n",
    "healthDF.select([count(when(col(c).isNull(), c)).alias(c) for c in [\"Hospital\", \"Group PAC ID\", \"State\", \"Reported on PC Live Site\"]]).show()\n",
    "\n",
    "print(\"Checking amount of distinct values in columns Hospital, Group PAC ID, State, Reported on PC Live Site:\")\n",
    "healthDF.select([countDistinct(c).alias(c) for c in [\"Hospital\", \"Group PAC ID\", \"State\", \"Reported on PC Live Site\"]]).show()\n",
    "\n",
    "print (\"Most and least frequent occurrences for Hospital, Group PAC ID, State, Reported on PC Live Site:\")\n",
    "HospitalDF = healthDF.groupBy(\"Hospital\").agg(count(lit(1)).alias(\"Total\"))\n",
    "Group_PAC_DF = healthDF.groupBy(\"Group PAC ID\").agg(count(lit(1)).alias(\"Total\"))\n",
    "StateDF = healthDF.groupBy(\"State\").agg(count(lit(1)).alias(\"Total\"))\n",
    "Reported_Live_DF = healthDF.groupBy(\"Reported on PC Live Site\").agg(count(lit(1)).alias(\"Total\"))\n",
    "\n",
    "leastFreqHospital     = HospitalDF.orderBy(col(\"Total\").asc()).first()\n",
    "mostFreqHospital      = HospitalDF.orderBy(col(\"Total\").desc()).first()\n",
    "leastFreqGroupPAC     = Group_PAC_DF.orderBy(col(\"Total\").asc()).first()\n",
    "mostFreqGroupPAC      = Group_PAC_DF.orderBy(col(\"Total\").desc()).first()\n",
    "leastFreqState        = StateDF.orderBy(col(\"Total\").asc()).first()\n",
    "mostFreqState         = StateDF.orderBy(col(\"Total\").desc()).first()\n",
    "leastFreqReportedLive = Reported_Live_DF.orderBy(col(\"Total\").asc()).first()\n",
    "mostFreqReportedLive  = Reported_Live_DF.orderBy(col(\"Total\").desc()).first()\n",
    "\n",
    "display(Markdown(\"\"\"\n",
    "| %s | %s | %s | %s |\n",
    "|----|----|----|----|\n",
    "| %s | %s | %s | %s |\n",
    "\"\"\" % (\"leastFreqHospital\", \"mostFreqHospital\", \"leastFreqGroupPAC\", \"mostFreqGroupPAC\", \\\n",
    "       \"%s (%s occurrences)\" % (leastFreqHospital[\"Hospital\"], leastFreqHospital[\"Total\"]), \\\n",
    "       \"%s (%s occurrences)\" % (mostFreqHospital[\"Hospital\"], mostFreqHospital[\"Total\"]), \\\n",
    "       \"%s (%d occurrences)\" % (leastFreqGroupPAC[\"Group PAC ID\"], leastFreqGroupPAC[\"Group PAC ID\"]), \\\n",
    "       \"%s (%d occurrences)\" % (mostFreqGroupPAC [\"Group PAC ID\"], mostFreqGroupPAC [\"Group PAC ID\"]))))\n",
    "display(Markdown(\"\"\"\n",
    "| %s | %s | %s | %s |\n",
    "|----|----|----|----|\n",
    "| %s | %s | %s | %s |\n",
    "\"\"\" % (\"leastFreqState\", \"mostFreqState\", \"leastFreqReportedLive\", \"mostFreqDest\", \\\n",
    "       \"%s (%d occurrences)\" % (leastFreqState [\"State\"], leastFreqState [\"Total\"]), \\\n",
    "       \"%s (%d occurrences)\" % (mostFreqState [\"State\"], mostFreqState [\"Total\"]), \\\n",
    "       \"%s (%d occurrences)\" % (leastFreqReportedLive[\"Reported on PC Live Site\"], leastFreqReportedLive[\"Total\"]), \\\n",
    "       \"%s (%s occurrences)\" % (mostFreqReportedLive[\"Reported on PC Live Site\"], mostFreqReportedLive[\"Reported on PC Live Site\"]))))\n",
    "\n"
   ]
  },
  {
   "cell_type": "code",
   "execution_count": 225,
   "metadata": {},
   "outputs": [
    {
     "name": "stdout",
     "output_type": "stream",
     "text": [
      "Checking for nulls on columns Measure Performance Rate:\n",
      "+------------------------+\n",
      "|Measure Performance Rate|\n",
      "+------------------------+\n",
      "|                       0|\n",
      "+------------------------+\n",
      "\n"
     ]
    }
   ],
   "source": [
    "# Drop nulls\n",
    "healthDF = healthDF.dropna(subset=[\"Measure Performance Rate\"])\n",
    "\n",
    "print(\"Checking for nulls on columns Measure Performance Rate:\")\n",
    "healthDF.select([count(when(col(c).isNull(),\\\n",
    "        c)).alias(c) for c in [\"Measure Performance Rate\"]]).show()"
   ]
  },
  {
   "cell_type": "markdown",
   "metadata": {},
   "source": [
    "## 5. Answer some business questions to improve patient service \n",
    "\n",
    "### A. Ratio of hospital measure performance rating by grade "
   ]
  },
  {
   "cell_type": "code",
   "execution_count": 226,
   "metadata": {
    "scrolled": false
   },
   "outputs": [
    {
     "name": "stdout",
     "output_type": "stream",
     "text": [
      "+---------------+---------+------------+\n",
      "|          Grade|Instances|RoundedRatio|\n",
      "+---------------+---------+------------+\n",
      "|   1. Excellent|    21803|       41.27|\n",
      "|        2. Good|     4679|        8.86|\n",
      "|     3. Average|     3107|        5.88|\n",
      "|        4. Poor|     4311|        8.16|\n",
      "|5. Unacceptable|    18928|       35.83|\n",
      "+---------------+---------+------------+\n",
      "\n"
     ]
    }
   ],
   "source": [
    "from pyspark.sql.functions import count, round\n",
    "\n",
    "# Grade is going to be categorized as follows:\n",
    "#\n",
    "#   \"excellent\"      =(90,100] \n",
    "#   \"good\"           =(80,89] \n",
    "#   \"average\"        =(70,79] \n",
    "#   \"poor\"           =(0,69] \n",
    "\n",
    "# 1. Enrich the DF with grades based on our categorization\n",
    "totalHealth = healthDF.count()\n",
    "\n",
    "gradeDF = healthDF\\\n",
    "   .where(col(\"Measure Performance Rate\")!=101)\\\n",
    "   .withColumn(\"Grade\", when(col(\"Measure Performance Rate\")>=90,\"1. Excellent\")\\\n",
    "                 .when((col(\"Measure Performance Rate\")>79) & (col(\"Measure Performance Rate\")<=89),\"2. Good\")\\\n",
    "                 .when((col(\"Measure Performance Rate\")>69) & (col(\"Measure Performance Rate\")<=79),\"3. Average\")\\\n",
    "                 .when((col(\"Measure Performance Rate\")>49) & (col(\"Measure Performance Rate\")<=69),\"4. Poor\")\\\n",
    "                .otherwise(\"5. Unacceptable\"))\n",
    "gradeDF.cache() # optimization to make the processing faster\n",
    "\n",
    "# 2. Ready to answer to this business question\n",
    "gradeDF.where(col(\"Measure Performance Rate\")!=101)\\\n",
    "                     .select(\"Grade\", \"Measure Performance Rate\")\\\n",
    "                     .groupBy(\"Grade\")\\\n",
    "                     .agg(count(\"Grade\").alias(\"Instances\"), \\\n",
    "                          (count(\"Grade\")/totalHealth*100).alias(\"Ratio\"))\\\n",
    "                    .orderBy(\"Grade\")\\\n",
    "                     .select(\"Grade\",\"Instances\",round(\"Ratio\",2).alias(\"RoundedRatio\")).show()\n",
    "\n"
   ]
  },
  {
   "cell_type": "markdown",
   "metadata": {},
   "source": [
    "### B. Measure statistics by type of measure (e-prescribing, secure messaging, pain assessment and follow-up) "
   ]
  },
  {
   "cell_type": "code",
   "execution_count": 227,
   "metadata": {},
   "outputs": [
    {
     "data": {
      "text/markdown": [
       "**E-Prescribing Statistics**:"
      ],
      "text/plain": [
       "<IPython.core.display.Markdown object>"
      ]
     },
     "metadata": {},
     "output_type": "display_data"
    },
    {
     "name": "stdout",
     "output_type": "stream",
     "text": [
      "+-------+------------------------+\n",
      "|summary|Measure Performance Rate|\n",
      "+-------+------------------------+\n",
      "|  count|                    4873|\n",
      "|   mean|       84.49538272111636|\n",
      "| stddev|      18.271657786469472|\n",
      "|    min|                       0|\n",
      "|    25%|                      79|\n",
      "|    50%|                      91|\n",
      "|    75%|                      96|\n",
      "|    max|                     100|\n",
      "+-------+------------------------+\n",
      "\n"
     ]
    },
    {
     "data": {
      "text/markdown": [
       "**Secure Messaging Statistics**:"
      ],
      "text/plain": [
       "<IPython.core.display.Markdown object>"
      ]
     },
     "metadata": {},
     "output_type": "display_data"
    },
    {
     "name": "stdout",
     "output_type": "stream",
     "text": [
      "+-------+------------------------+\n",
      "|summary|Measure Performance Rate|\n",
      "+-------+------------------------+\n",
      "|  count|                    4383|\n",
      "|   mean|       18.11088295687885|\n",
      "| stddev|      21.721727249606282|\n",
      "|    min|                       0|\n",
      "|    25%|                       1|\n",
      "|    50%|                      10|\n",
      "|    75%|                      28|\n",
      "|    max|                     100|\n",
      "+-------+------------------------+\n",
      "\n"
     ]
    },
    {
     "data": {
      "text/markdown": [
       "**Pain Assessment and Follow-Up Statistics**:"
      ],
      "text/plain": [
       "<IPython.core.display.Markdown object>"
      ]
     },
     "metadata": {},
     "output_type": "display_data"
    },
    {
     "name": "stdout",
     "output_type": "stream",
     "text": [
      "+-------+------------------------+\n",
      "|summary|Measure Performance Rate|\n",
      "+-------+------------------------+\n",
      "|  count|                     425|\n",
      "|   mean|                   69.04|\n",
      "| stddev|      37.373002565417686|\n",
      "|    min|                       0|\n",
      "|    25%|                      38|\n",
      "|    50%|                      90|\n",
      "|    75%|                     100|\n",
      "|    max|                     100|\n",
      "+-------+------------------------+\n",
      "\n"
     ]
    }
   ],
   "source": [
    "from pyspark.sql.functions import max, min, avg, stddev\n",
    "from pyspark.sql.types import IntegerType\n",
    "\n",
    "# Statistics on e-prescribing, secure messaging, and pain assessment & follow up\n",
    "\n",
    "measuresDF = healthDF.select(\"Measure Performance Rate\")\n",
    "\n",
    "display(Markdown(\"**E-Prescribing Statistics**:\"))\n",
    "e_rxDF = measuresDF.where(col(\"Measure Title\")==(\"e-Prescribing\"))\n",
    "e_rxDF.summary().show()\n",
    "\n",
    "display(Markdown(\"**Secure Messaging Statistics**:\"))\n",
    "secureDF = measuresDF.where(col(\"Measure Title\")==(\"Secure Messaging\"))\n",
    "secureDF.summary().show()\n",
    "\n",
    "display(Markdown(\"**Pain Assessment and Follow-Up Statistics**:\"))\n",
    "painDF = measuresDF.where(col(\"Measure Title\")==(\"Pain Assessment and Follow-Up\"))\n",
    "painDF.summary().show()\n",
    "\n"
   ]
  },
  {
   "cell_type": "markdown",
   "metadata": {},
   "source": [
    "### C. Top 100 best and worst hospitals "
   ]
  },
  {
   "cell_type": "code",
   "execution_count": 228,
   "metadata": {},
   "outputs": [
    {
     "data": {
      "text/markdown": [
       "**Top 100 Hospitals by average Measure Performance Rate**:"
      ],
      "text/plain": [
       "<IPython.core.display.Markdown object>"
      ]
     },
     "metadata": {},
     "output_type": "display_data"
    },
    {
     "name": "stdout",
     "output_type": "stream",
     "text": [
      "+--------------------+-----+-----------------------------+\n",
      "|            Hospital|State|avg(Measure Performance Rate)|\n",
      "+--------------------+-----+-----------------------------+\n",
      "|SUMMIT PATHOLOGY ...|   OH|                        100.0|\n",
      "|AMSOL ANESTHETIST...|   IL|                        100.0|\n",
      "|PATHOLOGY LAB ASS...|   AL|                        100.0|\n",
      "|MID MICHIGAN INTE...|   MI|                        100.0|\n",
      "|PATHOLOGY ASSOCIA...|   FL|                        100.0|\n",
      "|RADIOLOGY REGIONA...|   FL|                        100.0|\n",
      "|WEST RIVER ANESTH...|   SD|                        100.0|\n",
      "|JELLICO COMMUNITY...|   TN|                        100.0|\n",
      "|SOLANO ANESTHESIA...|   CA|                        100.0|\n",
      "|PIKEVILLE MEDICAL...|   KY|                        100.0|\n",
      "|SOUTHERN WESTCHES...|   NY|                        100.0|\n",
      "|MARIA NINA CONCEP...|   FL|                        100.0|\n",
      "|FLOWERS PATHOLOGY...|   AL|                        100.0|\n",
      "|ASSOCIATED PATHOL...|   CA|                        100.0|\n",
      "|HELLERTOWN FAMILY...|   PA|                        100.0|\n",
      "|BUCHANAN PHYSICIA...|   VA|                        100.0|\n",
      "|PARKWEST IMAGING,...|   CO|                        100.0|\n",
      "|SHASTA CRITICAL C...|   CA|                        100.0|\n",
      "|METROPLEX PATHOLO...|   TX|                        100.0|\n",
      "|STEVEN K. STAIRES...|   LA|                        100.0|\n",
      "|  PATHOLOGY GROUP PC|   TN|                        100.0|\n",
      "|MEDICAL EYE CARE ...|   MA|                        100.0|\n",
      "|WK NW LOUISIANA I...|   LA|                        100.0|\n",
      "|MONTGOMERY ANESTH...|   AL|                        100.0|\n",
      "|OLYMPIA ANESTHESI...|   OK|                        100.0|\n",
      "|VAUGHT EYE ASSOCI...|   SC|                        100.0|\n",
      "|THE UNITED METHOD...|   NC|                        100.0|\n",
      "|   FOUNDATIONS, INC.|   TX|                        100.0|\n",
      "|HOOPES VISION COR...|   UT|                        100.0|\n",
      "|PVCH CLINICAL LAB...|   CA|                        100.0|\n",
      "|VANCE THOMPSON VI...|   SD|                        100.0|\n",
      "|HAWAII DERMATOLOG...|   HI|                        100.0|\n",
      "|AFFILIATED RADIOL...|   IL|                        100.0|\n",
      "|WILLIS KNIGHTON M...|   LA|                        100.0|\n",
      "|SLEEPY ANESTHESIA...|   TX|                        100.0|\n",
      "|DIAGNOSTIC IMAGIN...|   LA|                        100.0|\n",
      "|    PATHOLOGY CHP SC|   IL|                        100.0|\n",
      "|JOHN P KELLY A PR...|   CA|                        100.0|\n",
      "|RADIATION ONCOLOG...|   DE|                        100.0|\n",
      "|CALIFORNIA PACIFI...|   CA|                        100.0|\n",
      "|ARKANSAS VALLEY A...|   AR|                        100.0|\n",
      "|HUNTINGTON PATHOL...|   CA|                        100.0|\n",
      "|FREEMAN HUGHES an...|   NV|                        100.0|\n",
      "|PATHOLOGY ASSOCIA...|   CA|                        100.0|\n",
      "|HENRY COUNTY MEDI...|   TN|                        100.0|\n",
      "|CENTRAL OREGON PA...|   OR|                        100.0|\n",
      "|           WDPS, LLC|   SC|                        100.0|\n",
      "|PACIFIC PATHOLOGY...|   OR|                        100.0|\n",
      "|   DERMATOLOGY, P.A.|   MN|                        100.0|\n",
      "|PEE DEE PATHOLOGY...|   SC|                        100.0|\n",
      "|   JOURNEYCARE, INC.|   IL|                        100.0|\n",
      "|DERMATOLOGY CENTE...|   NJ|                        100.0|\n",
      "|WK BOSSIER ORTHOP...|   LA|                        100.0|\n",
      "|ADVIVUM ANESTHESI...|   MO|                        100.0|\n",
      "|CONTEMPORARY ANES...|   KS|                        100.0|\n",
      "|SURGERY ASSOCIATE...|   MS|                        100.0|\n",
      "|LUNT and KVARFORD...|   UT|                        100.0|\n",
      "|LUBBOCK DIGESTIVE...|   TX|                        100.0|\n",
      "|GWINNETT PATHOLOG...|   GA|                        100.0|\n",
      "|ALLERGY ASTHMA an...|   FL|                        100.0|\n",
      "|PARK PLASTIC SURG...|   NC|                        100.0|\n",
      "|CORNERSTONE MEDIC...|   GA|                        100.0|\n",
      "|ADVANCED FOOT CAR...|   TN|                        100.0|\n",
      "| GUARDIAN ANESTHESIA|   AL|                        100.0|\n",
      "|DERMATOLOGY and C...|   CA|                        100.0|\n",
      "|ASSOCIATED PATHOL...|   OH|                        100.0|\n",
      "|G and G ANESTHESI...|   IL|                        100.0|\n",
      "|PALMETTO PODIATRY...|   SC|                        100.0|\n",
      "|LABORATORY MEDICI...|   AR|                        100.0|\n",
      "|     FIRST CARE, LLC|   AL|                        100.0|\n",
      "|WINTER HAVEN CV A...|   FL|                        100.0|\n",
      "|TUALITY ANESTHESI...|   OR|                        100.0|\n",
      "|METRO ANESTHESIA ...|   AZ|                        100.0|\n",
      "|VALLEY PATHOLOGY,...|   AL|                        100.0|\n",
      "|HAROONI and SHEIN...|   NY|                        100.0|\n",
      "|LIMA PATHOLOGY AS...|   OH|                        100.0|\n",
      "|ASSOCIATED ANESTH...|   NE|                        100.0|\n",
      "|DERMATOLOGY EAST,...|   TN|                        100.0|\n",
      "|BEAR CREEK ANESTH...|   CA|                        100.0|\n",
      "|MARSHALL MEDICAL ...|   AL|                        100.0|\n",
      "|WALTON ANESTHESIA...|   GA|                        100.0|\n",
      "|ST CHARLES EYE CE...|   MO|                        100.0|\n",
      "|ASSOCIATED THORAC...|   AZ|                        100.0|\n",
      "|TOWER HEALTH MEDI...|   PA|                        100.0|\n",
      "|GOLDBERG ROSENSTE...|   MD|                        100.0|\n",
      "|ARIZONA ANESTHESI...|   AZ|                        100.0|\n",
      "| DEKALB PATHOLOGY PC|   GA|                        100.0|\n",
      "|PEACHTREE PIEDMON...|   GA|                        100.0|\n",
      "|RAYMOND T. HAJJAR...|   MI|                        100.0|\n",
      "|DERMATOLOGY ASSOC...|   FL|                        100.0|\n",
      "|TUPELO PATHOLOGY ...|   MS|                        100.0|\n",
      "|DANVILLE RADIOLOG...|   NC|                        100.0|\n",
      "|KRESIE and PENZLE...|   KS|                        100.0|\n",
      "|COLLABORATIVE GER...|   TX|                        100.0|\n",
      "|SAN DIMAS ANESTHE...|   CA|                        100.0|\n",
      "|PROFESSIONAL PATH...|   SC|                        100.0|\n",
      "|PREMIER PATHOLOGY...|   IL|                        100.0|\n",
      "|UNIVERSITY CANCER...|   GA|                        100.0|\n",
      "|LAHAYE CENTER FOR...|   LA|                        100.0|\n",
      "|RAPID URGENT CARE...|   LA|                        100.0|\n",
      "+--------------------+-----+-----------------------------+\n",
      "\n"
     ]
    }
   ],
   "source": [
    "# Find and order the average Measure Performance Rate of top 100 hospitals (with state)\n",
    "\n",
    "display(Markdown(\"**Top 100 Hospitals by average Measure Performance Rate**:\"))\n",
    "\n",
    "hospitalState = healthDF.groupBy(\"Hospital\", \"State\").mean(\"Measure Performance Rate\")\n",
    "Top100DF = hospitalState.orderBy(avg(\"Measure Performance Rate\"), ascending = False).limit(100)\n",
    "Top100DF.show(100)"
   ]
  },
  {
   "cell_type": "code",
   "execution_count": 229,
   "metadata": {},
   "outputs": [
    {
     "data": {
      "text/markdown": [
       "**Bottom 100 Hospitals by average Measure Performance Rate**:"
      ],
      "text/plain": [
       "<IPython.core.display.Markdown object>"
      ]
     },
     "metadata": {},
     "output_type": "display_data"
    },
    {
     "name": "stdout",
     "output_type": "stream",
     "text": [
      "+--------------------+-----+-----------------------------+\n",
      "|            Hospital|State|avg(Measure Performance Rate)|\n",
      "+--------------------+-----+-----------------------------+\n",
      "|MAGNOLIA EXPRESS ...|   MS|                          0.0|\n",
      "|PATRIOT URGENT CA...|   MA|                          0.0|\n",
      "|    GARY L CURSON PA|   FL|                          0.0|\n",
      "|PAJARO VALLEY NEU...|   CA|                          0.0|\n",
      "|ALLERGY and ASTHM...|   OH|                          0.0|\n",
      "|    VALLEY ENT, P.C.|   PA|                          0.0|\n",
      "|LELWICA CHIROPRACTIC|   MN|                          0.0|\n",
      "|SYRACUSE ENT SURG...|   NY|                          0.0|\n",
      "|ORTHOPEDIC INSTIT...|   CA|                          0.0|\n",
      "|WESTERN INFECTIOU...|   CO|                          0.0|\n",
      "|PACIFICA EMERGENC...|   CA|                          0.0|\n",
      "|KENT E DOBBINS OD...|   KS|                          0.0|\n",
      "|VALLEY PULMONARY ...|   TX|                          0.0|\n",
      "|ASCENSION OUR LAD...|   WI|                          0.0|\n",
      "|PULMONARY SPECIAL...|   IN|                          0.0|\n",
      "|TEXAS SPINE CONSU...|   TX|                          0.0|\n",
      "|CENTRAL GEORGIA M...|   GA|                          0.0|\n",
      "|WESTCHESTER MEDIC...|   NY|                          0.0|\n",
      "|MERAKEY PENNSYLVANIA|   PA|                          0.0|\n",
      "|SCOTTSDALE DERMAT...|   AZ|                          0.0|\n",
      "|GASTON MEDICAL AS...|   NC|                          0.0|\n",
      "|SHARP AND CHILDRE...|   CA|                          0.0|\n",
      "|MARYLAND ENT CENT...|   MD|                          0.0|\n",
      "|EL-BERSHAWI MEDIC...|   CA|                          0.0|\n",
      "|NORTHERN ROCKIES ...|   MT|                          0.0|\n",
      "|ALBUQUERQUE CENTE...|   NM|                          0.0|\n",
      "|LEXINGTON FAMILY ...|   NE|                          0.0|\n",
      "|ALLERGY AND ASTHM...|   CO|                          0.0|\n",
      "|DESERT EAR NOSE a...|   CA|                          0.0|\n",
      "|BEAUFORT COUNTY M...|   SC|                          0.0|\n",
      "|SOUTHWEST INFECTI...|   IL|                          0.0|\n",
      "|NORTHSIDE ANESTHE...|   GA|                          0.0|\n",
      "|PIEDMONT PSYCHIAT...|   SC|                          0.0|\n",
      "|TALLAHASSEE NEURO...|   FL|                          0.0|\n",
      "|BAY AREA ANESTHES...|   FL|                          0.0|\n",
      "|LESLIE R CAPIN MD PC|   CO|           0.3333333333333333|\n",
      "|  KREIN AND MOEN, PC|   ND|                          0.5|\n",
      "|KENNETH A ROSEN M...|   FL|                          0.5|\n",
      "|ASPEN ORTHOPEDIC ...|   WI|                          0.5|\n",
      "|COLUMBIA RADIOLOG...|   MO|                          0.5|\n",
      "|BERGEN KIDNEY CENTER|   NJ|                          1.0|\n",
      "|CARLOS MARCHENA M...|   MI|                          1.0|\n",
      "|INTERCARE HEALTH ...|   PA|                          1.0|\n",
      "|PRAIRIE STATE PUL...|   IL|                          1.0|\n",
      "|NEPHROLOGY AND HY...|   MO|                          1.0|\n",
      "|MCKINNEY WHITEMAR...|   WA|                          1.0|\n",
      "|COLUMBIA SURGICAL...|   WA|                          1.0|\n",
      "|SOUTHEASTERN ENDO...|   GA|                          1.0|\n",
      "|SOUTHWEST SKIN SP...|   AZ|                         1.25|\n",
      "|SNOWY MOUNTAIN MA...|   NC|                         1.75|\n",
      "|WEST BROWARD NEPH...|   FL|                          2.0|\n",
      "|SUNNYSIDE COMMUNI...|   WA|                          2.0|\n",
      "|ASCENSION CALUMET...|   WI|                          2.0|\n",
      "|LUTHERAN HOSPITAL...|   CO|                          2.0|\n",
      "|BILOXI HMA PHYSIC...|   MS|                          2.0|\n",
      "|SPORTS MEDICINE S...|   GA|           2.6666666666666665|\n",
      "|BRADFORD OPTICAL PLC|   VT|                          3.0|\n",
      "|NEUROLOGICIAL ASS...|   WA|                          3.0|\n",
      "|MEDICAL CENTER AN...|   TN|                          3.0|\n",
      "|DERMATOLOGY CLINI...|   CO|                          3.2|\n",
      "|GREATER CHESAPEAK...|   MD|           3.3333333333333335|\n",
      "| RALPH ALHALEL, P.A.|   TX|           3.6666666666666665|\n",
      "|COAST PLAZA EMERG...|   CA|                          4.0|\n",
      "|POTOMAC VALLEY HO...|   WV|                          4.0|\n",
      "|ADVANCED DERMATOL...|   WY|            4.333333333333333|\n",
      "|ST CATHERINE HOSP...|   IN|                          4.5|\n",
      "|PEACHTREE CITY PH...|   GA|                          5.0|\n",
      "|ASCENSION MEDICAL...|   WI|                          5.0|\n",
      "|  JUAN F LAMAS, INC.|   FL|                          5.0|\n",
      "|ST. LOUIS KIDNEY ...|   MO|                          5.0|\n",
      "|   METRO EYE CARE PC|   IL|                          5.0|\n",
      "|TRANSCARE MOBILE ...|   MA|                          5.0|\n",
      "|NORTHEASTERN HEAL...|   OK|                          5.0|\n",
      "|  WILSON POLITO INC.|   ID|                          5.0|\n",
      "|FIVE TOWNS HEART ...|   NY|            5.666666666666667|\n",
      "|CULVER EMERGENCY ...|   CA|            6.333333333333333|\n",
      "|HERITAGE TECHNOLO...|   AZ|                          6.5|\n",
      "|ISLAND COUNSELING...|   MA|                          6.5|\n",
      "|NEW JERSEY KIDNEY...|   NJ|                          7.0|\n",
      "|GUARDIAN HEADACHE...|   IL|                          7.0|\n",
      "|METROPOLITAN DIAG...|   NY|                          7.0|\n",
      "|   RPCI ONCOLOGY, PC|   NY|                          7.0|\n",
      "|ALEXIAN BROTHERS ...|   IL|                          7.5|\n",
      "|UVALDE MEDICAL AN...|   TX|                          8.0|\n",
      "|SOUTH FLORIDA KID...|   FL|                          8.0|\n",
      "|OASIS FOOT and AN...|   AZ|                          8.0|\n",
      "|BIRMINGHAM CHIROP...|   MI|            8.333333333333334|\n",
      "|PHOENIXVILLE ORTH...|   PA|                          8.5|\n",
      "|TOUCHETTE REGIONA...|   IL|                          8.5|\n",
      "|         DELCARE, PA|   FL|                          8.5|\n",
      "|DR. CARVELL AND A...|   FL|                          8.6|\n",
      "|VICTORIA SURGICAL...|   TX|            8.666666666666666|\n",
      "|ASSOCIATES IN INF...|   FL|                          9.0|\n",
      "|STRONG MEDICAL GROUP|   NY|                          9.5|\n",
      "|EASTWOOD COMMUNIT...|   MI|                         10.0|\n",
      "|RADIOLOGY SERVICE...|   FL|                         10.0|\n",
      "|DAVID R CARROLL,M...|   MS|                         10.0|\n",
      "|CRABBE CHIROPRACT...|   MA|                        10.25|\n",
      "|GOODMAN DERMATOLO...|   GA|           10.285714285714286|\n",
      "|     THE NORD CENTER|   OH|                         10.5|\n",
      "+--------------------+-----+-----------------------------+\n",
      "\n"
     ]
    }
   ],
   "source": [
    "# Find and order the average Measure Performance Rate of bottom 100 hospitals (with state)\n",
    "\n",
    "display(Markdown(\"**Bottom 100 Hospitals by average Measure Performance Rate**:\"))\n",
    "\n",
    "Bottom100DF = hospitalState.orderBy(avg(\"Measure Performance Rate\"), ascending = True).limit(100)\n",
    "Bottom100DF.show(100)\n"
   ]
  },
  {
   "cell_type": "code",
   "execution_count": 230,
   "metadata": {},
   "outputs": [
    {
     "data": {
      "text/markdown": [
       "**Number of times states show up in the bottom 100**:"
      ],
      "text/plain": [
       "<IPython.core.display.Markdown object>"
      ]
     },
     "metadata": {},
     "output_type": "display_data"
    },
    {
     "name": "stdout",
     "output_type": "stream",
     "text": [
      "+-----+-----+\n",
      "|State|count|\n",
      "+-----+-----+\n",
      "|   FL|   11|\n",
      "|   CA|    8|\n",
      "|   NY|    6|\n",
      "|   GA|    6|\n",
      "|   IL|    6|\n",
      "|   TX|    5|\n",
      "|   CO|    5|\n",
      "|   WA|    4|\n",
      "|   PA|    4|\n",
      "|   AZ|    4|\n",
      "|   MA|    4|\n",
      "|   WI|    4|\n",
      "|   MO|    3|\n",
      "|   MI|    3|\n",
      "|   MS|    3|\n",
      "|   OH|    2|\n",
      "|   IN|    2|\n",
      "|   NC|    2|\n",
      "|   SC|    2|\n",
      "|   MD|    2|\n",
      "+-----+-----+\n",
      "only showing top 20 rows\n",
      "\n"
     ]
    }
   ],
   "source": [
    "# Bad states: how many times states show up in the bottom 100\n",
    "\n",
    "display (Markdown(\"**Number of times states show up in the bottom 100**:\"))\n",
    "\n",
    "Bottom100DF.groupby(\"State\").count().orderBy(\"count\", ascending=False).show()\n"
   ]
  }
 ],
 "metadata": {
  "kernelspec": {
   "display_name": "Python 3",
   "language": "python",
   "name": "python3"
  }
 },
 "nbformat": 4,
 "nbformat_minor": 2
}
